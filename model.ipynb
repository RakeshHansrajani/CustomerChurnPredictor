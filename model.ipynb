{
 "cells": [
  {
   "cell_type": "code",
   "execution_count": 1,
   "id": "95cd9c11",
   "metadata": {},
   "outputs": [],
   "source": [
    "# Importing libraries\n",
    "\n",
    "import pandas as pd\n",
    "import numpy as np\n",
    "from sklearn.linear_model import LogisticRegression, SGDClassifier\n",
    "import pickle\n",
    "\n",
    "\n",
    "\n",
    "# Importing data file\n",
    "\n",
    "df= pd.read_excel(r'customer_churn_large_dataset.xlsx')\n",
    "\n",
    "\n",
    "\n",
    "# Dropping unnecessary columns\n",
    "\n",
    "df.drop(['CustomerID', 'Name'],axis=1,inplace=True)\n",
    "\n",
    "\n",
    "\n",
    "# Encoding categorical columns\n",
    "\n",
    "df = pd.get_dummies(df, columns = ['Gender'],prefix = 'Gender_')\n",
    "df = pd.get_dummies(df, columns = ['Location'],prefix = 'Location_')\n",
    "\n",
    "\n",
    "\n",
    "# Splitting target variable\n",
    "\n",
    "x = df.drop('Churn',axis=1)\n",
    "y = df['Churn']\n",
    "\n",
    "\n",
    "\n",
    "# Fitting model\n",
    "\n",
    "lr_SGD = SGDClassifier(loss = 'log', random_state = 10)\n",
    "lr_SGD.fit(x,y)\n",
    "\n",
    "\n",
    "\n",
    "# Creating pickle file\n",
    "\n",
    "pickle.dump(lr_SGD, open('model.pkl','wb'))"
   ]
  },
  {
   "cell_type": "code",
   "execution_count": null,
   "id": "83be939d",
   "metadata": {},
   "outputs": [],
   "source": []
  }
 ],
 "metadata": {
  "kernelspec": {
   "display_name": "Python 3 (ipykernel)",
   "language": "python",
   "name": "python3"
  },
  "language_info": {
   "codemirror_mode": {
    "name": "ipython",
    "version": 3
   },
   "file_extension": ".py",
   "mimetype": "text/x-python",
   "name": "python",
   "nbconvert_exporter": "python",
   "pygments_lexer": "ipython3",
   "version": "3.9.13"
  }
 },
 "nbformat": 4,
 "nbformat_minor": 5
}
